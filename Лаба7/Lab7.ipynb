{
 "cells": [
  {
   "cell_type": "markdown",
   "metadata": {},
   "source": [
    "Лабораторна робота №7\n",
    "Любченко Мирослави"
   ]
  },
  {
   "cell_type": "markdown",
   "metadata": {},
   "source": [
    "Завдання"
   ]
  },
  {
   "cell_type": "markdown",
   "metadata": {},
   "source": [
    "1. Обрати реальні дані з kaggle або сгенерувати випадкові дані. Дані мають відповідати вимогам викладеним вище. \n",
    "\n",
    "2. Побудувати графік, що відображає розкид даних в групах. Приклад:\n",
    "![alt text](https://s3.amazonaws.com/libapps/accounts/2515/images/spss_paired-t_example_boxplot.PNG)\n",
    "\n",
    "3. Написати функції:\n",
    "* для оцінки вімінностей дисперсій між групами за критерієм Лівеня. Функція має повертати значення тесту  та результат оцінки рівності дисперсій (significant або not significant).\n",
    "\n",
    "* для визначення відмінності між групами за критерієм Стьюдента в залежності від рівності/відмінності дисперсій. Функція має повертати значення критерію Стьюдента,значення ступеня свободи та результат оцінки значимості зв'зку (significant або not significant). \n",
    "\n",
    "4. Перевірити розбіжність на між групами на даних з п. 1. "
   ]
  },
  {
   "cell_type": "code",
   "execution_count": 1,
   "metadata": {},
   "outputs": [],
   "source": [
    "import scipy.stats as ss\n",
    "import numpy as np\n",
    "import pandas as pd\n",
    "import math\n",
    "import matplotlib.pyplot as plt\n",
    "import seaborn as sns"
   ]
  },
  {
   "cell_type": "code",
   "execution_count": 2,
   "metadata": {},
   "outputs": [
    {
     "data": {
      "text/html": [
       "<div>\n",
       "<style scoped>\n",
       "    .dataframe tbody tr th:only-of-type {\n",
       "        vertical-align: middle;\n",
       "    }\n",
       "\n",
       "    .dataframe tbody tr th {\n",
       "        vertical-align: top;\n",
       "    }\n",
       "\n",
       "    .dataframe thead th {\n",
       "        text-align: right;\n",
       "    }\n",
       "</style>\n",
       "<table border=\"1\" class=\"dataframe\">\n",
       "  <thead>\n",
       "    <tr style=\"text-align: right;\">\n",
       "      <th>Тестовые оценки</th>\n",
       "      <th>Первый класс</th>\n",
       "      <th>Второй класс</th>\n",
       "    </tr>\n",
       "    <tr>\n",
       "      <th>№ учащихся</th>\n",
       "      <th></th>\n",
       "      <th></th>\n",
       "    </tr>\n",
       "  </thead>\n",
       "  <tbody>\n",
       "    <tr>\n",
       "      <td>1</td>\n",
       "      <td>90</td>\n",
       "      <td>41</td>\n",
       "    </tr>\n",
       "    <tr>\n",
       "      <td>2</td>\n",
       "      <td>29</td>\n",
       "      <td>49</td>\n",
       "    </tr>\n",
       "    <tr>\n",
       "      <td>3</td>\n",
       "      <td>39</td>\n",
       "      <td>56</td>\n",
       "    </tr>\n",
       "    <tr>\n",
       "      <td>4</td>\n",
       "      <td>79</td>\n",
       "      <td>64</td>\n",
       "    </tr>\n",
       "    <tr>\n",
       "      <td>5</td>\n",
       "      <td>88</td>\n",
       "      <td>72</td>\n",
       "    </tr>\n",
       "    <tr>\n",
       "      <td>6</td>\n",
       "      <td>53</td>\n",
       "      <td>65</td>\n",
       "    </tr>\n",
       "    <tr>\n",
       "      <td>7</td>\n",
       "      <td>34</td>\n",
       "      <td>63</td>\n",
       "    </tr>\n",
       "    <tr>\n",
       "      <td>8</td>\n",
       "      <td>40</td>\n",
       "      <td>87</td>\n",
       "    </tr>\n",
       "    <tr>\n",
       "      <td>9</td>\n",
       "      <td>75</td>\n",
       "      <td>77</td>\n",
       "    </tr>\n",
       "    <tr>\n",
       "      <td>10</td>\n",
       "      <td>79</td>\n",
       "      <td>62</td>\n",
       "    </tr>\n",
       "  </tbody>\n",
       "</table>\n",
       "</div>"
      ],
      "text/plain": [
       "Тестовые оценки  Первый класс  Второй класс\n",
       "№ учащихся                                 \n",
       "1                          90            41\n",
       "2                          29            49\n",
       "3                          39            56\n",
       "4                          79            64\n",
       "5                          88            72\n",
       "6                          53            65\n",
       "7                          34            63\n",
       "8                          40            87\n",
       "9                          75            77\n",
       "10                         79            62"
      ]
     },
     "execution_count": 2,
     "metadata": {},
     "output_type": "execute_result"
    }
   ],
   "source": [
    "table1=[]\n",
    "table1 = [90,29,39,79,88,53,34,40,75,79]\n",
    "table2=[]\n",
    "table2 = [41,49,56,64,72,65,63,87,77,62]\n",
    "df = pd.DataFrame({\n",
    "    'Первый класс': table1,\n",
    "    'Второй класс': table2\n",
    "}, index=np.arange(1, len(table1)+1))\n",
    "df.columns.name = 'Тестовые оценки'\n",
    "df.index.name = '№ учащихся'\n",
    "df"
   ]
  },
  {
   "cell_type": "code",
   "execution_count": 3,
   "metadata": {},
   "outputs": [
    {
     "data": {
      "text/plain": [
       "[]"
      ]
     },
     "execution_count": 3,
     "metadata": {},
     "output_type": "execute_result"
    },
    {
     "data": {
      "image/png": "[encoded data removed]",
      "text/plain": [
       "<Figure size 432x288 with 1 Axes>"
      ]
     },
     "metadata": {
      "needs_background": "light"
     },
     "output_type": "display_data"
    }
   ],
   "source": [
    "sns.boxplot(data=df, orient='h').set()"
   ]
  },
  {
   "cell_type": "code",
   "execution_count": 66,
   "metadata": {},
   "outputs": [],
   "source": [
    "def sd(massiv,n):\n",
    "    s=0\n",
    "    mean=(sum(massiv))/n\n",
    "    for i in range (n):\n",
    "        s+=((massiv[i]-mean))**2\n",
    "    return s/(n-1)\n",
    "def livenia(x,y):\n",
    "    n=len(x)\n",
    "    m=len(y)\n",
    "    s1=sd(x,n)\n",
    "    s2=sd(y,m)\n",
    "    if s1>s2:\n",
    "        f=s1/s2\n",
    "    else:\n",
    "        f=s2/s1\n",
    "    print('Отримане значення критерію Лівеня : F = ' + str(f))\n",
    "    df1=n-1\n",
    "    df2=m-1\n",
    "    print('Значення ступенів свободи: df1 = ' + str(df1) + \"; df2 = \" + str(df2))\n",
    "    table = pd.read_excel(\"Таблиця критичних значень для критерію Лівеня.xlsx\").iloc[df1,df2]\n",
    "    print(\"Критичне значення критерію Лівеня = \" + str(table))\n",
    "    if f<table:\n",
    "        result = \"Оскільки значення критерію Лівеня менше, ніж його критичне значення, то результат оцінки значимості зв'зку - not significant\"\n",
    "    else:\n",
    "        result = \"Оскільки значення критерію Лівеня більше, ніж його критичне значення, то результат оцінки значимості зв'зку -  significant\"\n",
    "    return result\n"
   ]
  },
  {
   "cell_type": "code",
   "execution_count": 67,
   "metadata": {},
   "outputs": [],
   "source": [
    "def t_criterion(x,y,flag):\n",
    "    if flag==\"significant\":\n",
    "        n=len(x)\n",
    "        m=len(y)\n",
    "        s1=sd(x,n)\n",
    "        s2=sd(y,m)\n",
    "        m1=sum(x)/n\n",
    "        m2=sum(y)/n\n",
    "        df=n+m-2\n",
    "        t=(abs(m1-m2))/(math.sqrt((s1/n)+(s2/m)))\n",
    "    elif flag==\"not significant\":\n",
    "        n=len(x)\n",
    "        m=len(y)\n",
    "        s1=sd(x,n)\n",
    "        s2=sd(y,m)\n",
    "        m1=sum(x)/n\n",
    "        m2=sum(y)/n\n",
    "        df1=n-1\n",
    "        df2=m-1\n",
    "        df=n+m-2\n",
    "        k=(1/n)+(1/m)\n",
    "        t=(abs(m1-m2))/(math.sqrt(((df1*s1+df2*s2)/df)*k))\n",
    "    else:\n",
    "        return \"You input the wrong flag\"\n",
    "    print('Отримане значення критерію Стьюдента: t = ' + str(t))\n",
    "    print('Значення ступеня свободи: df = ' + str(df))\n",
    "    table = pd.read_excel(\"Таблиця критичних значень для критерію Стьюдента.xlsx\").iloc[df-1,1]\n",
    "    print(\"Критичне значення критерію Стьюдента = \" + str(table))\n",
    "    if t<table:\n",
    "        result = \"Оскільки значення критерію Стьюдента менше, ніж його критичне значення, то результат оцінки значимості зв'зку - not significant\"\n",
    "    else:\n",
    "        result = \"Оскільки значення критерію Стьюдента більше, ніж його критичне значення, то результат оцінки значимості зв'зку -  significant\"\n",
    "    return result"
   ]
  },
  {
   "cell_type": "code",
   "execution_count": 68,
   "metadata": {},
   "outputs": [
    {
     "name": "stdout",
     "output_type": "stream",
     "text": [
      "Отримане значення критерію Лівеня : F = 3.253218884120172\n",
      "Значення ступенів свободи: df1 = 9; df2 = 9\n",
      "Критичне значення критерію Лівеня = 3.18\n"
     ]
    },
    {
     "data": {
      "text/plain": [
       "\"Оскільки значення критерію Лівеня більше, ніж його критичне значення, то результат оцінки значимості зв'зку -  significant\""
      ]
     },
     "execution_count": 68,
     "metadata": {},
     "output_type": "execute_result"
    }
   ],
   "source": [
    "livenia(table1,table2)"
   ]
  },
  {
   "cell_type": "code",
   "execution_count": 69,
   "metadata": {},
   "outputs": [
    {
     "name": "stdout",
     "output_type": "stream",
     "text": [
      "Отримане значення критерію Стьюдента: t = 0.3466979117865551\n",
      "Значення ступеня свободи: df = 18\n",
      "Критичне значення критерію Стьюдента = 2.101\n"
     ]
    },
    {
     "data": {
      "text/plain": [
       "\"Оскільки значення критерію Стьюдента менше, ніж його критичне значення, то результат оцінки значимості зв'зку - not significant\""
      ]
     },
     "execution_count": 69,
     "metadata": {},
     "output_type": "execute_result"
    }
   ],
   "source": [
    "t_criterion(table1,table2,\"significant\")"
   ]
  }
 ],
 "metadata": {
  "kernelspec": {
   "display_name": "Python 3",
   "language": "python",
   "name": "python3"
  },
  "language_info": {
   "codemirror_mode": {
    "name": "ipython",
    "version": 3
   },
   "file_extension": ".py",
   "mimetype": "text/x-python",
   "name": "python",
   "nbconvert_exporter": "python",
   "pygments_lexer": "ipython3",
   "version": "3.7.4"
  }
 },
 "nbformat": 4,
 "nbformat_minor": 2
}
