{
 "cells": [
  {
   "cell_type": "markdown",
   "metadata": {},
   "source": [
    "Лабораторная работа №5\n",
    "\n"
   ]
  },
  {
   "cell_type": "markdown",
   "metadata": {},
   "source": [
    "1. Обрати реальні дані з kaggle або сгенерувати випадкові дані, що містять розподіл деякої ознаки в двох групах."
   ]
  },
  {
   "cell_type": "code",
   "execution_count": 2,
   "metadata": {},
   "outputs": [],
   "source": [
    "import pandas as pd\n",
    "import scipy\n",
    "import seaborn as sns\n",
    "import matplotlib.pyplot as plt\n",
    "%matplotlib inline\n",
    "import numpy as np"
   ]
  },
  {
   "cell_type": "code",
   "execution_count": 3,
   "metadata": {},
   "outputs": [
    {
     "data": {
      "text/html": [
       "<div>\n",
       "<style scoped>\n",
       "    .dataframe tbody tr th:only-of-type {\n",
       "        vertical-align: middle;\n",
       "    }\n",
       "\n",
       "    .dataframe tbody tr th {\n",
       "        vertical-align: top;\n",
       "    }\n",
       "\n",
       "    .dataframe thead th {\n",
       "        text-align: right;\n",
       "    }\n",
       "</style>\n",
       "<table border=\"1\" class=\"dataframe\">\n",
       "  <thead>\n",
       "    <tr style=\"text-align: right;\">\n",
       "      <th></th>\n",
       "      <th>flag</th>\n",
       "      <th>group</th>\n",
       "    </tr>\n",
       "  </thead>\n",
       "  <tbody>\n",
       "    <tr>\n",
       "      <td>0</td>\n",
       "      <td>10</td>\n",
       "      <td>1</td>\n",
       "    </tr>\n",
       "    <tr>\n",
       "      <td>1</td>\n",
       "      <td>10</td>\n",
       "      <td>2</td>\n",
       "    </tr>\n",
       "    <tr>\n",
       "      <td>2</td>\n",
       "      <td>20</td>\n",
       "      <td>2</td>\n",
       "    </tr>\n",
       "    <tr>\n",
       "      <td>3</td>\n",
       "      <td>10</td>\n",
       "      <td>1</td>\n",
       "    </tr>\n",
       "    <tr>\n",
       "      <td>4</td>\n",
       "      <td>10</td>\n",
       "      <td>1</td>\n",
       "    </tr>\n",
       "    <tr>\n",
       "      <td>5</td>\n",
       "      <td>10</td>\n",
       "      <td>1</td>\n",
       "    </tr>\n",
       "    <tr>\n",
       "      <td>6</td>\n",
       "      <td>20</td>\n",
       "      <td>1</td>\n",
       "    </tr>\n",
       "    <tr>\n",
       "      <td>7</td>\n",
       "      <td>10</td>\n",
       "      <td>1</td>\n",
       "    </tr>\n",
       "    <tr>\n",
       "      <td>8</td>\n",
       "      <td>10</td>\n",
       "      <td>2</td>\n",
       "    </tr>\n",
       "    <tr>\n",
       "      <td>9</td>\n",
       "      <td>20</td>\n",
       "      <td>1</td>\n",
       "    </tr>\n",
       "    <tr>\n",
       "      <td>10</td>\n",
       "      <td>10</td>\n",
       "      <td>1</td>\n",
       "    </tr>\n",
       "    <tr>\n",
       "      <td>11</td>\n",
       "      <td>10</td>\n",
       "      <td>2</td>\n",
       "    </tr>\n",
       "    <tr>\n",
       "      <td>12</td>\n",
       "      <td>20</td>\n",
       "      <td>2</td>\n",
       "    </tr>\n",
       "    <tr>\n",
       "      <td>13</td>\n",
       "      <td>10</td>\n",
       "      <td>2</td>\n",
       "    </tr>\n",
       "    <tr>\n",
       "      <td>14</td>\n",
       "      <td>20</td>\n",
       "      <td>2</td>\n",
       "    </tr>\n",
       "    <tr>\n",
       "      <td>15</td>\n",
       "      <td>10</td>\n",
       "      <td>2</td>\n",
       "    </tr>\n",
       "    <tr>\n",
       "      <td>16</td>\n",
       "      <td>10</td>\n",
       "      <td>1</td>\n",
       "    </tr>\n",
       "    <tr>\n",
       "      <td>17</td>\n",
       "      <td>20</td>\n",
       "      <td>2</td>\n",
       "    </tr>\n",
       "    <tr>\n",
       "      <td>18</td>\n",
       "      <td>20</td>\n",
       "      <td>1</td>\n",
       "    </tr>\n",
       "    <tr>\n",
       "      <td>19</td>\n",
       "      <td>20</td>\n",
       "      <td>1</td>\n",
       "    </tr>\n",
       "    <tr>\n",
       "      <td>20</td>\n",
       "      <td>20</td>\n",
       "      <td>2</td>\n",
       "    </tr>\n",
       "    <tr>\n",
       "      <td>21</td>\n",
       "      <td>10</td>\n",
       "      <td>1</td>\n",
       "    </tr>\n",
       "    <tr>\n",
       "      <td>22</td>\n",
       "      <td>10</td>\n",
       "      <td>2</td>\n",
       "    </tr>\n",
       "    <tr>\n",
       "      <td>23</td>\n",
       "      <td>10</td>\n",
       "      <td>2</td>\n",
       "    </tr>\n",
       "    <tr>\n",
       "      <td>24</td>\n",
       "      <td>20</td>\n",
       "      <td>2</td>\n",
       "    </tr>\n",
       "    <tr>\n",
       "      <td>25</td>\n",
       "      <td>10</td>\n",
       "      <td>1</td>\n",
       "    </tr>\n",
       "  </tbody>\n",
       "</table>\n",
       "</div>"
      ],
      "text/plain": [
       "    flag  group\n",
       "0     10      1\n",
       "1     10      2\n",
       "2     20      2\n",
       "3     10      1\n",
       "4     10      1\n",
       "5     10      1\n",
       "6     20      1\n",
       "7     10      1\n",
       "8     10      2\n",
       "9     20      1\n",
       "10    10      1\n",
       "11    10      2\n",
       "12    20      2\n",
       "13    10      2\n",
       "14    20      2\n",
       "15    10      2\n",
       "16    10      1\n",
       "17    20      2\n",
       "18    20      1\n",
       "19    20      1\n",
       "20    20      2\n",
       "21    10      1\n",
       "22    10      2\n",
       "23    10      2\n",
       "24    20      2\n",
       "25    10      1"
      ]
     },
     "execution_count": 3,
     "metadata": {},
     "output_type": "execute_result"
    }
   ],
   "source": [
    "df = pd.DataFrame({'flag' : [10,10,20,10,10,10,20,10,10,20,10,10,20,10,20,10,10,20,20,20,20,10,10,10,20,10],\n",
    "    'group' : [1,2,2,1,1,1,1,1,2,1,1,2,2,2,2,2,1,2,1,1,2,1,2,2,2,1]})\n",
    "df"
   ]
  },
  {
   "cell_type": "code",
   "execution_count": 4,
   "metadata": {},
   "outputs": [
    {
     "data": {
      "text/html": [
       "<div>\n",
       "<style scoped>\n",
       "    .dataframe tbody tr th:only-of-type {\n",
       "        vertical-align: middle;\n",
       "    }\n",
       "\n",
       "    .dataframe tbody tr th {\n",
       "        vertical-align: top;\n",
       "    }\n",
       "\n",
       "    .dataframe thead th {\n",
       "        text-align: right;\n",
       "    }\n",
       "</style>\n",
       "<table border=\"1\" class=\"dataframe\">\n",
       "  <thead>\n",
       "    <tr style=\"text-align: right;\">\n",
       "      <th>group</th>\n",
       "      <th>1</th>\n",
       "      <th>2</th>\n",
       "    </tr>\n",
       "    <tr>\n",
       "      <th>flag</th>\n",
       "      <th></th>\n",
       "      <th></th>\n",
       "    </tr>\n",
       "  </thead>\n",
       "  <tbody>\n",
       "    <tr>\n",
       "      <td>10</td>\n",
       "      <td>9</td>\n",
       "      <td>7</td>\n",
       "    </tr>\n",
       "    <tr>\n",
       "      <td>20</td>\n",
       "      <td>4</td>\n",
       "      <td>6</td>\n",
       "    </tr>\n",
       "  </tbody>\n",
       "</table>\n",
       "</div>"
      ],
      "text/plain": [
       "group  1  2\n",
       "flag       \n",
       "10     9  7\n",
       "20     4  6"
      ]
     },
     "execution_count": 4,
     "metadata": {},
     "output_type": "execute_result"
    }
   ],
   "source": [
    "k = pd.crosstab(df['flag'], df['group'])\n",
    "k"
   ]
  },
  {
   "cell_type": "markdown",
   "metadata": {},
   "source": [
    "2. Побудувати графік, що відображає розподіл ознак в групах."
   ]
  },
  {
   "cell_type": "code",
   "execution_count": 40,
   "metadata": {},
   "outputs": [
    {
     "data": {
      "image/png": "[encoded data removed]",
      "text/plain": [
       "<Figure size 432x216 with 2 Axes>"
      ]
     },
     "metadata": {
      "needs_background": "light"
     },
     "output_type": "display_data"
    }
   ],
   "source": [
    "fig = sns.FacetGrid(df, col=\"flag\")\n",
    "fig = fig.map(plt.hist, \"group\");"
   ]
  },
  {
   "cell_type": "markdown",
   "metadata": {},
   "source": [
    "3. Написати функцію, що оцінює зв'язок між ознакою та групою за критерієм Пірсона. Функція має оцінювати розбіжність на двох рівнях - 0,001 та 0,05, в залежністі від параметру significant_level, що передається в неї. Врахувати у функції випадок, що сума частот ознаки у групах може бути відмінною."
   ]
  },
  {
   "cell_type": "code",
   "execution_count": 41,
   "metadata": {},
   "outputs": [],
   "source": [
    "def Pirson_Test(inf, significant_level):\n",
    "    flag = []*0\n",
    "    group = []*0\n",
    "    f=0\n",
    "    for i in inf.iloc[:,0]:\n",
    "        f = True\n",
    "        for j in flag:\n",
    "            if(i == j):\n",
    "                f = False\n",
    "        if(f):\n",
    "            flag.append(i)\n",
    "    for i in inf.iloc[:,1]:\n",
    "        f = True\n",
    "        for j in group:\n",
    "            if(i == j):\n",
    "                f = False\n",
    "        if(f):\n",
    "            group.append(i)\n",
    "    flag = np.sort(flag)\n",
    "    group = np.sort(group)\n",
    "    criterion = pd.DataFrame({\n",
    "        (group[0]):(0 for i in range(len(flag))),\n",
    "        (group[1]):(0 for i in range(len(flag))),}, index = flag)\n",
    "    for i in range(len(inf)):\n",
    "        criterion [inf.iloc[i,1]][inf.iloc[i,0]] += 1\n",
    "    if (sum(criterion.iloc[:,0]) != sum(criterion.iloc[:,1])):\n",
    "        for i in criterion.iloc[:,1]:\n",
    "            criterion[criterion.columns[1]] = [i/sum(criterion.iloc[:,1])*sum(criterion.iloc[:,0])]\n",
    "    else:\n",
    "        criterion[criterion.columns[1]] = criterion[criterion.columns[1]]\n",
    "    criterion[\"(𝑛𝑖−𝑛̀𝑖)^2\"] = [(criterion.iloc[i,0] - criterion.iloc[i,1])**2 for i in range(len(criterion))]\n",
    "    criterion[\"(𝑛𝑖−𝑛̀𝑖)^2/𝑛̀𝑖\"] = [criterion.iloc[i,2]/criterion.iloc[i,1] for i in range(len(criterion))]\n",
    "    print(\"Таблиця спряженості:\")\n",
    "    print(criterion)\n",
    "    hi = sum(criterion.iloc[:,3])\n",
    "    print(\"\\nχ^2 = \" + str(hi))\n",
    "    print(\"Кількість ступенів свободи: \" + str(len(criterion)-1))\n",
    "    table = pd.read_excel(\"Таблиця критичних значень для критерію Пірсона.xlsx\").iloc[len(criterion)-1, 1 if(significant_level == 0.01) else 2]\n",
    "    print(\"χ^2 критичне = \" + str(table))\n",
    "    result = 0\n",
    "    if (hi < table):\n",
    "        result = \"Розбіжність відсутня або не суттєва, оскільки %.5f \"%hi+\"< %.1f (критичне)\"%table\n",
    "    else:\n",
    "        result = \"Розбіжність присутня, оскільки %.5f \"%hi+\"> %.1f (критичне)\"%table\n",
    "    return result"
   ]
  },
  {
   "cell_type": "markdown",
   "metadata": {},
   "source": [
    "4. Перевірити розбіжність на між групами на даних з п. 1. В результаті сформувати таблицю спряженості"
   ]
  },
  {
   "cell_type": "code",
   "execution_count": 42,
   "metadata": {},
   "outputs": [
    {
     "name": "stdout",
     "output_type": "stream",
     "text": [
      "Таблиця спряженості:\n",
      "    1  2  (𝑛𝑖−𝑛̀𝑖)^2  (𝑛𝑖−𝑛̀𝑖)^2/𝑛̀𝑖\n",
      "10  9  7           4        0.571429\n",
      "20  4  6           4        0.666667\n",
      "\n",
      "χ^2 = 1.2380952380952381\n",
      "Кількість ступенів свободи: 1\n",
      "χ^2 критичне = 6.6\n"
     ]
    },
    {
     "data": {
      "text/plain": [
       "'Розбіжність відсутня або не суттєва, оскільки 1.23810 < 6.6 (критичне)'"
      ]
     },
     "execution_count": 42,
     "metadata": {},
     "output_type": "execute_result"
    }
   ],
   "source": [
    "Pirson_Test(df, 0.01)"
   ]
  },
  {
   "cell_type": "code",
   "execution_count": 43,
   "metadata": {},
   "outputs": [
    {
     "name": "stdout",
     "output_type": "stream",
     "text": [
      "Таблиця спряженості:\n",
      "    1  2  (𝑛𝑖−𝑛̀𝑖)^2  (𝑛𝑖−𝑛̀𝑖)^2/𝑛̀𝑖\n",
      "10  9  7           4        0.571429\n",
      "20  4  6           4        0.666667\n",
      "\n",
      "χ^2 = 1.2380952380952381\n",
      "Кількість ступенів свободи: 1\n",
      "χ^2 критичне = 3.8\n"
     ]
    },
    {
     "data": {
      "text/plain": [
       "'Розбіжність відсутня або не суттєва, оскільки 1.23810 < 3.8 (критичне)'"
      ]
     },
     "execution_count": 43,
     "metadata": {},
     "output_type": "execute_result"
    }
   ],
   "source": [
    "Pirson_Test(df, 0.05)"
   ]
  },
  {
   "cell_type": "markdown",
   "metadata": {},
   "source": [
    "5. Додати до таблиці стовбчики з відсотовим розподілом по градаціям всередині груп. Окремо вивести результати роботи критерію (чи є статистична розбіжність між групами)."
   ]
  },
  {
   "cell_type": "code",
   "execution_count": 133,
   "metadata": {},
   "outputs": [
    {
     "name": "stdout",
     "output_type": "stream",
     "text": [
      "69.23076923076923%\n",
      "30.76923076923077%\n",
      "53.84615384615385%\n",
      "46.15384615384615%\n"
     ]
    }
   ],
   "source": [
    "proc110 = 0\n",
    "proc120 = 0\n",
    "proc210 = 0\n",
    "proc220 = 0\n",
    "proc110 = str((9/13)*100) + \"%\"\n",
    "print(proc110)\n",
    "proc120 = str((4/13)*100) + \"%\"\n",
    "print(proc120)\n",
    "proc210 = str((7/13)*100) + \"%\"\n",
    "print(proc210)\n",
    "proc220 = str((6/13)*100) + \"%\"\n",
    "print(proc220)"
   ]
  },
  {
   "cell_type": "code",
   "execution_count": 25,
   "metadata": {},
   "outputs": [
    {
     "data": {
      "text/html": [
       "<div>\n",
       "<style scoped>\n",
       "    .dataframe tbody tr th:only-of-type {\n",
       "        vertical-align: middle;\n",
       "    }\n",
       "\n",
       "    .dataframe tbody tr th {\n",
       "        vertical-align: top;\n",
       "    }\n",
       "\n",
       "    .dataframe thead th {\n",
       "        text-align: right;\n",
       "    }\n",
       "</style>\n",
       "<table border=\"1\" class=\"dataframe\">\n",
       "  <thead>\n",
       "    <tr style=\"text-align: right;\">\n",
       "      <th></th>\n",
       "      <th>group 1</th>\n",
       "      <th>group 2</th>\n",
       "      <th>group 1 in %</th>\n",
       "      <th>group 2 in %</th>\n",
       "    </tr>\n",
       "  </thead>\n",
       "  <tbody>\n",
       "    <tr>\n",
       "      <td>10</td>\n",
       "      <td>9</td>\n",
       "      <td>7</td>\n",
       "      <td>69.230769</td>\n",
       "      <td>53.846154</td>\n",
       "    </tr>\n",
       "    <tr>\n",
       "      <td>20</td>\n",
       "      <td>4</td>\n",
       "      <td>6</td>\n",
       "      <td>30.769231</td>\n",
       "      <td>46.153846</td>\n",
       "    </tr>\n",
       "  </tbody>\n",
       "</table>\n",
       "</div>"
      ],
      "text/plain": [
       "    group 1  group 2  group 1 in %  group 2 in %\n",
       "10        9        7     69.230769     53.846154\n",
       "20        4        6     30.769231     46.153846"
      ]
     },
     "execution_count": 25,
     "metadata": {},
     "output_type": "execute_result"
    }
   ],
   "source": [
    "d = {'group 1': [9, 4], 'group 2': [7, 6], 'group 1 in %': [69.23076923076923,30.76923076923077], \n",
    "     'group 2 in %': [53.84615384615385,46.15384615384615]}\n",
    "new_df = pd.DataFrame(data=d,index = [10,20])\n",
    "new_df"
   ]
  }
 ],
 "metadata": {
  "kernelspec": {
   "display_name": "Python 3",
   "language": "python",
   "name": "python3"
  },
  "language_info": {
   "codemirror_mode": {
    "name": "ipython",
    "version": 3
   },
   "file_extension": ".py",
   "mimetype": "text/x-python",
   "name": "python",
   "nbconvert_exporter": "python",
   "pygments_lexer": "ipython3",
   "version": "3.7.4"
  }
 },
 "nbformat": 4,
 "nbformat_minor": 2
}
