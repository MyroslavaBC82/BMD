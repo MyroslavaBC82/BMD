{
 "cells": [
  {
   "cell_type": "markdown",
   "metadata": {},
   "source": [
    "Лабораторная работа №6\n",
    "Любченко Мирославы"
   ]
  },
  {
   "cell_type": "markdown",
   "metadata": {},
   "source": [
    "# Завдання\n",
    "\n",
    "1. Обрати реальні дані з kaggle або сгенерувати випадкові дані. Дані мають відповідати вимогам викладеним вище. Формат даних:\n",
    "\n",
    "| Група 1 | Група 2  | \n",
    "| ------------- |--------- |\n",
    "| $k_{1}  $   | $k_{2}$   |\n",
    "| $...$   | $...$   |\n",
    "| $k_{1n}$   | $k_{2n}$   |"
   ]
  },
  {
   "cell_type": "code",
   "execution_count": 28,
   "metadata": {},
   "outputs": [],
   "source": [
    "import scipy.stats as ss\n",
    "import numpy as np\n",
    "import pandas as pd\n",
    "import math\n",
    "import matplotlib.pyplot as plt\n",
    "import seaborn as sns"
   ]
  },
  {
   "cell_type": "code",
   "execution_count": 60,
   "metadata": {},
   "outputs": [
    {
     "data": {
      "text/html": [
       "<div>\n",
       "<style scoped>\n",
       "    .dataframe tbody tr th:only-of-type {\n",
       "        vertical-align: middle;\n",
       "    }\n",
       "\n",
       "    .dataframe tbody tr th {\n",
       "        vertical-align: top;\n",
       "    }\n",
       "\n",
       "    .dataframe thead th {\n",
       "        text-align: right;\n",
       "    }\n",
       "</style>\n",
       "<table border=\"1\" class=\"dataframe\">\n",
       "  <thead>\n",
       "    <tr style=\"text-align: right;\">\n",
       "      <th>Уровень глюкозы в крови, ммоль/л</th>\n",
       "      <th>до приема препарата</th>\n",
       "      <th>после приема препарата</th>\n",
       "    </tr>\n",
       "    <tr>\n",
       "      <th>№ пациента</th>\n",
       "      <th></th>\n",
       "      <th></th>\n",
       "    </tr>\n",
       "  </thead>\n",
       "  <tbody>\n",
       "    <tr>\n",
       "      <td>1</td>\n",
       "      <td>9.6</td>\n",
       "      <td>5.7</td>\n",
       "    </tr>\n",
       "    <tr>\n",
       "      <td>2</td>\n",
       "      <td>8.1</td>\n",
       "      <td>4.2</td>\n",
       "    </tr>\n",
       "    <tr>\n",
       "      <td>3</td>\n",
       "      <td>8.8</td>\n",
       "      <td>6.4</td>\n",
       "    </tr>\n",
       "    <tr>\n",
       "      <td>4</td>\n",
       "      <td>7.9</td>\n",
       "      <td>5.5</td>\n",
       "    </tr>\n",
       "    <tr>\n",
       "      <td>5</td>\n",
       "      <td>9.2</td>\n",
       "      <td>5.3</td>\n",
       "    </tr>\n",
       "    <tr>\n",
       "      <td>6</td>\n",
       "      <td>8.0</td>\n",
       "      <td>4.2</td>\n",
       "    </tr>\n",
       "    <tr>\n",
       "      <td>7</td>\n",
       "      <td>8.4</td>\n",
       "      <td>5.1</td>\n",
       "    </tr>\n",
       "    <tr>\n",
       "      <td>8</td>\n",
       "      <td>10.1</td>\n",
       "      <td>5.9</td>\n",
       "    </tr>\n",
       "    <tr>\n",
       "      <td>9</td>\n",
       "      <td>7.8</td>\n",
       "      <td>7.5</td>\n",
       "    </tr>\n",
       "    <tr>\n",
       "      <td>10</td>\n",
       "      <td>8.1</td>\n",
       "      <td>5.0</td>\n",
       "    </tr>\n",
       "  </tbody>\n",
       "</table>\n",
       "</div>"
      ],
      "text/plain": [
       "Уровень глюкозы в крови, ммоль/л  до приема препарата  после приема препарата\n",
       "№ пациента                                                                   \n",
       "1                                                 9.6                     5.7\n",
       "2                                                 8.1                     4.2\n",
       "3                                                 8.8                     6.4\n",
       "4                                                 7.9                     5.5\n",
       "5                                                 9.2                     5.3\n",
       "6                                                 8.0                     4.2\n",
       "7                                                 8.4                     5.1\n",
       "8                                                10.1                     5.9\n",
       "9                                                 7.8                     7.5\n",
       "10                                                8.1                     5.0"
      ]
     },
     "execution_count": 60,
     "metadata": {},
     "output_type": "execute_result"
    }
   ],
   "source": [
    "table1=[]\n",
    "table1 = [9.6, 8.1, 8.8,7.9,9.2,8.0,8.4,10.1,7.8,8.1]\n",
    "table2=[]\n",
    "table2 = [5.7, 4.2, 6.4,5.5,5.3,4.2,5.1,5.9,7.5,5.0]\n",
    "df = pd.DataFrame({\n",
    "    'до приема препарата': table1,\n",
    "    'после приема препарата': table2\n",
    "}, index=np.arange(1, len(table1)+1))\n",
    "df.columns.name = 'Уровень глюкозы в крови, ммоль/л'\n",
    "df.index.name = '№ пациента'\n",
    "df"
   ]
  },
  {
   "cell_type": "markdown",
   "metadata": {},
   "source": [
    "2. Побудувати графік, що відображає розкид даних в групах. Приклад:\n",
    "![alt text](https://s3.amazonaws.com/libapps/accounts/2515/images/spss_paired-t_example_boxplot.PNG)"
   ]
  },
  {
   "cell_type": "code",
   "execution_count": 61,
   "metadata": {},
   "outputs": [
    {
     "data": {
      "text/plain": [
       "[]"
      ]
     },
     "execution_count": 61,
     "metadata": {},
     "output_type": "execute_result"
    },
    {
     "data": {
      "image/png": "[encoded data removed]",
      "text/plain": [
       "<Figure size 432x288 with 1 Axes>"
      ]
     },
     "metadata": {
      "needs_background": "light"
     },
     "output_type": "display_data"
    }
   ],
   "source": [
    "sns.boxplot(data=df, orient='h').set()"
   ]
  },
  {
   "cell_type": "markdown",
   "metadata": {},
   "source": [
    "3. Написати функції:\n",
    "\n",
    "для оцінки зв'язку між групами за коефіцієнтом кореляції Пірсона. Функція має повертати значення коефіцієнту кореляції, значення ступеня свободи та результат оцінки значимості зв'зку (significant або not significant).\n",
    "\n",
    "для визначення відмінності між групами за критерієм Стьюдента. Функція має повертати значення критерію Стьюдента,значення ступеня свободи та результат оцінки значимості зв'зку (significant або not significant). "
   ]
  },
  {
   "cell_type": "code",
   "execution_count": 62,
   "metadata": {},
   "outputs": [],
   "source": [
    "def mas(massiv,n):\n",
    "    sum1= 0\n",
    "    for i in range(n):\n",
    "        sum1+=((massiv[i])**2)\n",
    "    return sum1\n",
    "def Pearson(x, y):\n",
    "    n = len(x)\n",
    "    sum1=sum(x)\n",
    "    sum2=sum(y)\n",
    "    d=sum1*sum2\n",
    "    k=0\n",
    "    for i in range(n):\n",
    "        k+=x[i]*y[i]\n",
    "    sum3=mas(x,n)\n",
    "    sum4=(sum(x))**2\n",
    "    sum5=mas(y,n)\n",
    "    sum6=((sum(y))**2)\n",
    "    result=0\n",
    "    r = ((n * k)-d)/(math.sqrt((n*sum3-sum4)*(n*sum5-sum6)))\n",
    "    print('Отримане значення коефіцієнту кореляції Пірсона: r = ' + str(r))\n",
    "    df= len(x)-2\n",
    "    print('Значення ступеня свободи: df = ' + str(df))\n",
    "    table = pd.read_excel(\"Таблица критических значений коэфициента корреляции Пирсона.xlsx\").iloc[df-1, 1 ]\n",
    "    print(\"Критичне значення коефіцієнту кореляції = \" + str(table))\n",
    "    if table<r:\n",
    "        result = \"Оскільки значення коефіцієнту кореляції Пірсона більше, ніж його критичне значення, то результат оцінки значимості зв'зку - significant\"\n",
    "    else:\n",
    "        result = \"Оскільки значення коефіцієнту кореляції Пірсона менше, ніж його критичне значення, то результат оцінки значимості зв'зку -  not significant\"\n",
    "    return result"
   ]
  },
  {
   "cell_type": "code",
   "execution_count": 79,
   "metadata": {},
   "outputs": [],
   "source": [
    "def Student(x, y):\n",
    "    n=len(x)\n",
    "    d=[]*n\n",
    "    for i in range(n):\n",
    "        d.append(x[i] - y[i])\n",
    "    M=sum(d)/n\n",
    "    L=0\n",
    "    for i in range(n):\n",
    "        L += ((M-d[i])**2)\n",
    "    sigma = math.sqrt((L)/(n-1))\n",
    "    t = M/(sigma/math.sqrt(n))\n",
    "    print('Отримане значення t-критерію Стьюдента: t = ' + str(t))\n",
    "    df = n - 1\n",
    "    print('Значення ступеня свободи: df = ' + str(df))\n",
    "    table = pd.read_excel(\"Таблица критических значений для парного критерия.xlsx\").iloc[df-1, 1 ]\n",
    "    print(\"Критичне значення коефіцієнту Стьюдента = \" + str(table))\n",
    "    if table<t:\n",
    "        result = \"Оскільки значення коефіцієнту Стьюдента більше, ніж його критичне значення, то результат оцінки значимості зв'зку - significant\"\n",
    "    else:\n",
    "        result = \"Оскільки значення коефіцієнту Стьюдента менше, ніж його критичне значення, то результат оцінки значимості зв'зку -  not significant\"\n",
    "    return result  "
   ]
  },
  {
   "cell_type": "markdown",
   "metadata": {},
   "source": [
    "4. Перевірити розбіжність на між групами на даних з п. 1. В результаті сформувати таблицю спряженості наступного вигляду:"
   ]
  },
  {
   "cell_type": "code",
   "execution_count": 64,
   "metadata": {},
   "outputs": [
    {
     "name": "stdout",
     "output_type": "stream",
     "text": [
      "Значення коефіцієнту кореляції Пірсона: r = 0.14397866762845465\n",
      "Значення ступеня свободи: df = 8\n",
      "Критичне значення коефіцієнту кореляції = 0.6319\n"
     ]
    },
    {
     "data": {
      "text/plain": [
       "\"Оскільки значення коефіцієнту кореляції Пірсона менше, ніж його критичне значення, то результат оцінки значимості зв'зку -  not significant\""
      ]
     },
     "execution_count": 64,
     "metadata": {},
     "output_type": "execute_result"
    }
   ],
   "source": [
    "Pearson(table1, table2)"
   ]
  },
  {
   "cell_type": "code",
   "execution_count": 81,
   "metadata": {},
   "outputs": [
    {
     "name": "stdout",
     "output_type": "stream",
     "text": [
      "Отримане значення t-критерію Стьюдента: t = 8.379887064504546\n",
      "Значення ступеня свободи: df = 9\n",
      "Критичне значення коефіцієнту Стьюдента = 2.262\n"
     ]
    },
    {
     "data": {
      "text/plain": [
       "\"Оскільки значення коефіцієнту Стьюдента більше, ніж його критичне значення, то результат оцінки значимості зв'зку - significant\""
      ]
     },
     "execution_count": 81,
     "metadata": {},
     "output_type": "execute_result"
    }
   ],
   "source": [
    "Student(table1,table2)"
   ]
  },
  {
   "cell_type": "markdown",
   "metadata": {},
   "source": [
    "5. Сформувати висновок про взаємозв'язок між групами та про їх розбіжність. "
   ]
  },
  {
   "cell_type": "markdown",
   "metadata": {},
   "source": [
    "    Висновок: \n",
    "    в результаті аналізу данних рівня глюкози у крові до та після прийому препарату виявлено:\n",
    " 1) Відсутність статистичної залежності;\n",
    " \n",
    " 2) Так як отримане значення критерію Стьюдента більше критичного, робимо висновок про наявність статистично значущих відмінностей вмісту глюкози в крові до та після прийому нового препарату. Була прийнята альтернативна гіпотеза про відмінність середніх."
   ]
  }
 ],
 "metadata": {
  "kernelspec": {
   "display_name": "Python 3",
   "language": "python",
   "name": "python3"
  },
  "language_info": {
   "codemirror_mode": {
    "name": "ipython",
    "version": 3
   },
   "file_extension": ".py",
   "mimetype": "text/x-python",
   "name": "python",
   "nbconvert_exporter": "python",
   "pygments_lexer": "ipython3",
   "version": "3.7.4"
  }
 },
 "nbformat": 4,
 "nbformat_minor": 2
}
